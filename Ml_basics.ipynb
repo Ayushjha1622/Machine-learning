{
  "nbformat": 4,
  "nbformat_minor": 0,
  "metadata": {
    "colab": {
      "provenance": [],
      "authorship_tag": "ABX9TyO9p+MWvp2qzz4gfCH8hQaF",
      "include_colab_link": true
    },
    "kernelspec": {
      "name": "python3",
      "display_name": "Python 3"
    },
    "language_info": {
      "name": "python"
    }
  },
  "cells": [
    {
      "cell_type": "markdown",
      "metadata": {
        "id": "view-in-github",
        "colab_type": "text"
      },
      "source": [
        "<a href=\"https://colab.research.google.com/github/Ayushjha1622/Machine-learning/blob/main/Ml_basics.ipynb\" target=\"_parent\"><img src=\"https://colab.research.google.com/assets/colab-badge.svg\" alt=\"Open In Colab\"/></a>"
      ]
    },
    {
      "cell_type": "code",
      "execution_count": 1,
      "metadata": {
        "colab": {
          "base_uri": "https://localhost:8080/"
        },
        "id": "9SoV7iDcGnNb",
        "outputId": "2ff4cbf3-3190-41c4-c885-961699de8034"
      },
      "outputs": [
        {
          "output_type": "stream",
          "name": "stdout",
          "text": [
            "27.087531725869745\n"
          ]
        }
      ],
      "source": [
        "import numpy\n",
        "data = [99,86,78,87,8,90,56,75]\n",
        "x=numpy.std(data)\n",
        "print(x)"
      ]
    },
    {
      "cell_type": "code",
      "source": [
        "#implementation of variance\n",
        "import numpy\n",
        "data = [99,86,78,87,8,90,56,75]\n",
        "x=numpy.var(data)\n",
        "print(x)"
      ],
      "metadata": {
        "colab": {
          "base_uri": "https://localhost:8080/"
        },
        "id": "8FKDKuMwG569",
        "outputId": "8aeb4186-c9de-4f86-855d-c720334afd16"
      },
      "execution_count": 2,
      "outputs": [
        {
          "output_type": "stream",
          "name": "stdout",
          "text": [
            "733.734375\n"
          ]
        }
      ]
    },
    {
      "cell_type": "code",
      "source": [
        "#implementaion of mean\n",
        "import numpy\n",
        "data = [99,86,78,87,8,90,56,75]\n",
        "x=numpy.mean(data)\n",
        "print(x)"
      ],
      "metadata": {
        "colab": {
          "base_uri": "https://localhost:8080/"
        },
        "id": "d8HvEI_0G_hf",
        "outputId": "313be484-e7a4-4a89-9a18-901862a7b7be"
      },
      "execution_count": 3,
      "outputs": [
        {
          "output_type": "stream",
          "name": "stdout",
          "text": [
            "72.375\n"
          ]
        }
      ]
    },
    {
      "cell_type": "code",
      "source": [
        "#implementaion of median\n",
        "import numpy\n",
        "data = [99,86,78,87,8,90,56,75]\n",
        "x=numpy.median(data)\n",
        "print(x)"
      ],
      "metadata": {
        "colab": {
          "base_uri": "https://localhost:8080/"
        },
        "id": "oqVsJPFZHC_i",
        "outputId": "3eac2bf2-3195-4c88-83c1-ec2835181af8"
      },
      "execution_count": 4,
      "outputs": [
        {
          "output_type": "stream",
          "name": "stdout",
          "text": [
            "82.0\n"
          ]
        }
      ]
    },
    {
      "cell_type": "code",
      "source": [
        "import matplotlib.pyplot as plt\n",
        "x = [5,7,8,7,2,17,2,9,4,11,12,9,6]\n",
        "y = [3,6,7,8,5,3,7,8,8,4,6,8,9]\n",
        "plt.scatter(x,y)\n",
        "plt.show()"
      ],
      "metadata": {
        "colab": {
          "base_uri": "https://localhost:8080/",
          "height": 430
        },
        "id": "FEMIMyU8HOiF",
        "outputId": "5ea93ad2-1897-466a-fa92-ad8abf49ebda"
      },
      "execution_count": 8,
      "outputs": [
        {
          "output_type": "display_data",
          "data": {
            "text/plain": [
              "<Figure size 640x480 with 1 Axes>"
            ],
            "image/png": "[encoded data removed]"
          },
          "metadata": {}
        }
      ]
    },
    {
      "cell_type": "code",
      "source": [],
      "metadata": {
        "id": "rP6joSY0ICPq"
      },
      "execution_count": null,
      "outputs": []
    }
  ]
}